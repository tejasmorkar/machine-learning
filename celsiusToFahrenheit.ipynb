{
  "nbformat": 4,
  "nbformat_minor": 0,
  "metadata": {
    "colab": {
      "name": "celsiusToFahrenheit.ipynb",
      "version": "0.3.2",
      "provenance": [],
      "collapsed_sections": [],
      "include_colab_link": true
    },
    "kernelspec": {
      "name": "python3",
      "display_name": "Python 3"
    },
    "accelerator": "GPU"
  },
  "cells": [
    {
      "cell_type": "markdown",
      "metadata": {
        "id": "view-in-github",
        "colab_type": "text"
      },
      "source": [
        "<a href=\"https://colab.research.google.com/github/tejasmorkar/machine-learning/blob/master/celsiusToFahrenheit.ipynb\" target=\"_parent\"><img src=\"https://colab.research.google.com/assets/colab-badge.svg\" alt=\"Open In Colab\"/></a>"
      ]
    },
    {
      "metadata": {
        "id": "J7ID7kgO5F4s",
        "colab_type": "code",
        "colab": {}
      },
      "cell_type": "code",
      "source": [
        "import tensorflow as tf\n",
        "tf.logging.set_verbosity(tf.logging.ERROR)\n",
        "\n",
        "import numpy as np"
      ],
      "execution_count": 0,
      "outputs": []
    },
    {
      "metadata": {
        "id": "A2xUuMFU5780",
        "colab_type": "text"
      },
      "cell_type": "markdown",
      "source": [
        "#Setting Up Training Data"
      ]
    },
    {
      "metadata": {
        "id": "hmGLkeV-58-N",
        "colab_type": "code",
        "outputId": "e7acb686-676d-4735-8936-c79b62daa91f",
        "colab": {
          "base_uri": "https://localhost:8080/",
          "height": 134
        }
      },
      "cell_type": "code",
      "source": [
        "celsius_q    = np.array([-40, -10,  0,  8, 15, 22,  38],  dtype=float)\n",
        "fahrenheit_a = np.array([-40,  14, 32, 46, 59, 72, 100],  dtype=float)\n",
        "\n",
        "for i,c in enumerate(celsius_q):\n",
        "    print(\"{} degrees celsius = {} degrees fahrenheit\".format(c, fahrenheit_a[i]))"
      ],
      "execution_count": 0,
      "outputs": [
        {
          "output_type": "stream",
          "text": [
            "-40.0 degrees celsius = -40.0 degrees fahrenheit\n",
            "-10.0 degrees celsius = 14.0 degrees fahrenheit\n",
            "0.0 degrees celsius = 32.0 degrees fahrenheit\n",
            "8.0 degrees celsius = 46.0 degrees fahrenheit\n",
            "15.0 degrees celsius = 59.0 degrees fahrenheit\n",
            "22.0 degrees celsius = 72.0 degrees fahrenheit\n",
            "38.0 degrees celsius = 100.0 degrees fahrenheit\n"
          ],
          "name": "stdout"
        }
      ]
    },
    {
      "metadata": {
        "id": "AzGcQ6b87S3s",
        "colab_type": "text"
      },
      "cell_type": "markdown",
      "source": [
        "#Creating the Model"
      ]
    },
    {
      "metadata": {
        "id": "hG-3KrQ67VjU",
        "colab_type": "code",
        "colab": {}
      },
      "cell_type": "code",
      "source": [
        "l0 = tf.keras.layers.Dense(units=1, input_shape=[1])\n",
        "model = tf.keras.Sequential([l0])"
      ],
      "execution_count": 0,
      "outputs": []
    },
    {
      "metadata": {
        "id": "VUIQQjDI8ASt",
        "colab_type": "text"
      },
      "cell_type": "markdown",
      "source": [
        "#Compiling the Model With Loss and Optimizer Functions"
      ]
    },
    {
      "metadata": {
        "id": "FjTo3iG68PMN",
        "colab_type": "code",
        "colab": {}
      },
      "cell_type": "code",
      "source": [
        "model.compile(loss='mean_squared_error',\n",
        "             optimizer=tf.keras.optimizers.Adam(0.1))"
      ],
      "execution_count": 0,
      "outputs": []
    },
    {
      "metadata": {
        "id": "3sMMEJnZ8_H3",
        "colab_type": "text"
      },
      "cell_type": "markdown",
      "source": [
        "#Training the Model"
      ]
    },
    {
      "metadata": {
        "id": "VdaKeMKK9CFH",
        "colab_type": "code",
        "outputId": "a674a071-4dc4-4457-a84f-112d1595bcd5",
        "colab": {
          "base_uri": "https://localhost:8080/",
          "height": 34
        }
      },
      "cell_type": "code",
      "source": [
        "history = model.fit(celsius_q, fahrenheit_a, epochs=600, verbose=False)\n",
        "print(\"Finished training the model\")"
      ],
      "execution_count": 0,
      "outputs": [
        {
          "output_type": "stream",
          "text": [
            "Finished training the model\n"
          ],
          "name": "stdout"
        }
      ]
    },
    {
      "metadata": {
        "id": "h29hwlzT9s5l",
        "colab_type": "text"
      },
      "cell_type": "markdown",
      "source": [
        "#Displaying the Training Statistics"
      ]
    },
    {
      "metadata": {
        "id": "GGWoxtk99xTY",
        "colab_type": "code",
        "outputId": "71e8ebea-0565-4010-9dcd-19ed5d670037",
        "colab": {
          "base_uri": "https://localhost:8080/",
          "height": 378
        }
      },
      "cell_type": "code",
      "source": [
        "import matplotlib.pyplot as plt\n",
        "plt.xlabel('Epoch Number')\n",
        "plt.ylabel('Loss Magnitude')\n",
        "plt.plot(history.history['loss'])"
      ],
      "execution_count": 0,
      "outputs": [
        {
          "output_type": "execute_result",
          "data": {
            "text/plain": [
              "[<matplotlib.lines.Line2D at 0x7f6b127a6f60>]"
            ]
          },
          "metadata": {
            "tags": []
          },
          "execution_count": 36
        },
        {
          "output_type": "display_data",
          "data": {
            "image/png": "[encoded data removed]",
            "text/plain": [
              "<Figure size 576x396 with 1 Axes>"
            ]
          },
          "metadata": {
            "tags": []
          }
        }
      ]
    },
    {
      "metadata": {
        "id": "1_N69sHLARiW",
        "colab_type": "text"
      },
      "cell_type": "markdown",
      "source": [
        "#Predicting Values"
      ]
    },
    {
      "metadata": {
        "id": "GL1dFTLPAQNd",
        "colab_type": "code",
        "outputId": "8f341626-49b3-4126-c463-b74cb2b80f56",
        "colab": {
          "base_uri": "https://localhost:8080/",
          "height": 34
        }
      },
      "cell_type": "code",
      "source": [
        "print(model.predict([100]))"
      ],
      "execution_count": 0,
      "outputs": [
        {
          "output_type": "stream",
          "text": [
            "[[211.50247]]\n"
          ],
          "name": "stdout"
        }
      ]
    },
    {
      "metadata": {
        "id": "yjlT-XSQBTAV",
        "colab_type": "text"
      },
      "cell_type": "markdown",
      "source": [
        "#Looking at Layer Weigths"
      ]
    },
    {
      "metadata": {
        "id": "bOGumgFABVwV",
        "colab_type": "code",
        "outputId": "a1184496-ac64-4f46-ef27-d803f02abcf1",
        "colab": {
          "base_uri": "https://localhost:8080/",
          "height": 34
        }
      },
      "cell_type": "code",
      "source": [
        "print(l0.get_weights())"
      ],
      "execution_count": 0,
      "outputs": [
        {
          "output_type": "stream",
          "text": [
            "[array([[1.814226]], dtype=float32), array([30.079859], dtype=float32)]\n"
          ],
          "name": "stdout"
        }
      ]
    }
  ]
}